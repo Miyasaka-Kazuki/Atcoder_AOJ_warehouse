{
 "cells": [
  {
   "cell_type": "markdown",
   "metadata": {},
   "source": [
    "・A - Can't Wait for Holiday"
   ]
  },
  {
   "cell_type": "code",
   "execution_count": 4,
   "metadata": {},
   "outputs": [
    {
     "name": "stdout",
     "output_type": "stream",
     "text": [
      "SAT\n",
      "1\n"
     ]
    }
   ],
   "source": [
    "days = ['SUN', 'MON', 'TUE', 'WED', 'THU', 'FRI', 'SAT', 'NEXT_SUN'] #末尾までどのくらい遠いか\n",
    "\n",
    "today_day = input()\n",
    "today_index = days.index(today_day)\n",
    "nextsun_index = days.index('NEXT_SUN')\n",
    "print(nextsun_index - today_index)"
   ]
  },
  {
   "cell_type": "markdown",
   "metadata": {},
   "source": [
    "・B - ROT N"
   ]
  },
  {
   "cell_type": "code",
   "execution_count": 19,
   "metadata": {},
   "outputs": [
    {
     "name": "stdout",
     "output_type": "stream",
     "text": [
      "13\n",
      "ABCDEFGHIJKLMNOPQRSTUVWXYZ\n",
      "NOPQRSTUVWXYZABCDEFGHIJKLM\n"
     ]
    }
   ],
   "source": [
    "shift_num = int(input())\n",
    "string = list(input())\n",
    "\n",
    "for i, char in enumerate(string):\n",
    "    current_ord = (ord(char)+shift_num-ord('A')) % 26\n",
    "    new = chr(current_ord + ord('A'))\n",
    "    string[i] = new\n",
    "    \n",
    "print(''.join(string))"
   ]
  },
  {
   "cell_type": "markdown",
   "metadata": {},
   "source": [
    "・C - Buy an Integer"
   ]
  },
  {
   "cell_type": "code",
   "execution_count": null,
   "metadata": {},
   "outputs": [],
   "source": []
  }
 ],
 "metadata": {
  "kernelspec": {
   "display_name": "Python 3",
   "language": "python",
   "name": "python3"
  },
  "language_info": {
   "codemirror_mode": {
    "name": "ipython",
    "version": 3
   },
   "file_extension": ".py",
   "mimetype": "text/x-python",
   "name": "python",
   "nbconvert_exporter": "python",
   "pygments_lexer": "ipython3",
   "version": "3.7.1"
  }
 },
 "nbformat": 4,
 "nbformat_minor": 2
}
