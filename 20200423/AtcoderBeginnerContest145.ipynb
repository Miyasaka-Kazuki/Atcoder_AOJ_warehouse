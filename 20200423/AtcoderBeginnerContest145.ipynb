{
 "cells": [
  {
   "cell_type": "markdown",
   "metadata": {},
   "source": [
    "・A - Circle"
   ]
  },
  {
   "cell_type": "code",
   "execution_count": 3,
   "metadata": {},
   "outputs": [
    {
     "name": "stdout",
     "output_type": "stream",
     "text": [
      "100\n",
      "10000\n"
     ]
    }
   ],
   "source": [
    "PI = 3\n",
    "base_area = 1 * 1 * PI\n",
    "\n",
    "rad = int(input())\n",
    "ans_area = rad * rad * PI\n",
    "\n",
    "print(int(ans_area / base_area))\n"
   ]
  },
  {
   "cell_type": "markdown",
   "metadata": {},
   "source": [
    "・B - Echo"
   ]
  },
  {
   "cell_type": "code",
   "execution_count": 23,
   "metadata": {},
   "outputs": [
    {
     "name": "stdout",
     "output_type": "stream",
     "text": [
      "1\n",
      "z\n",
      "No\n"
     ]
    }
   ],
   "source": [
    "def isEcho(N, S):\n",
    "    if N % 2 != 0: # 偶数じゃなければ\n",
    "        return False\n",
    "    \n",
    "    first_S = S[0:int(N / 2)]\n",
    "    last_S = S[int(N / 2):N]\n",
    "    if first_S == last_S:\n",
    "        return True\n",
    "    return False\n",
    "\n",
    "N = int(input())\n",
    "S = input()\n",
    "isTrue = isEcho(N, S)\n",
    "if isTrue:\n",
    "    print('Yes')\n",
    "else:\n",
    "    print('No')"
   ]
  },
  {
   "cell_type": "markdown",
   "metadata": {},
   "source": [
    "・C - Average Length"
   ]
  },
  {
   "cell_type": "code",
   "execution_count": 22,
   "metadata": {},
   "outputs": [
    {
     "name": "stdout",
     "output_type": "stream",
     "text": [
      "3\n",
      "0 0\n",
      "0 1\n",
      "1 0\n",
      "2.2761423749153966\n"
     ]
    }
   ],
   "source": [
    "from itertools import permutations\n",
    "from math import sqrt, pow, factorial\n",
    "\n",
    "def length(a, b):\n",
    "    x1, y1 = a\n",
    "    x2, y2 = b\n",
    "    return sqrt(pow(x1 - x2, 2) + pow(y1 - y2, 2))\n",
    "\n",
    "N = int(input())\n",
    "xy = []\n",
    "for i in range(N):\n",
    "    xy.append(list(map(int, input().split())))\n",
    "    \n",
    "ans = 0\n",
    "for order in permutations(range(N)): # 経路全探索\n",
    "    tmp = 0\n",
    "    for i in range(1, N):\n",
    "        tmp += length(xy[order[i]], xy[order[i - 1]])\n",
    "    ans += tmp\n",
    "    \n",
    "ans /= factorial(N)\n",
    "print(ans)"
   ]
  },
  {
   "cell_type": "code",
   "execution_count": null,
   "metadata": {},
   "outputs": [],
   "source": []
  }
 ],
 "metadata": {
  "kernelspec": {
   "display_name": "Python 3",
   "language": "python",
   "name": "python3"
  },
  "language_info": {
   "codemirror_mode": {
    "name": "ipython",
    "version": 3
   },
   "file_extension": ".py",
   "mimetype": "text/x-python",
   "name": "python",
   "nbconvert_exporter": "python",
   "pygments_lexer": "ipython3",
   "version": "3.7.1"
  }
 },
 "nbformat": 4,
 "nbformat_minor": 2
}
