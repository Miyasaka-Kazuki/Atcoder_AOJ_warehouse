{
 "cells": [
  {
   "cell_type": "markdown",
   "metadata": {},
   "source": [
    "・A - Remaining Balls"
   ]
  },
  {
   "cell_type": "code",
   "execution_count": 1,
   "metadata": {},
   "outputs": [
    {
     "name": "stdout",
     "output_type": "stream",
     "text": [
      "red blue\n",
      "5 5\n",
      "blue\n",
      "5 4\n"
     ]
    }
   ],
   "source": [
    "S, T = input().split()\n",
    "A, B = list(map(int, input().split()))\n",
    "U = input()\n",
    " \n",
    "if U == S:\n",
    "    A -= 1\n",
    "else:\n",
    "    B -= 1\n",
    "print(A, B)"
   ]
  },
  {
   "cell_type": "markdown",
   "metadata": {},
   "source": [
    "・B - I miss you..."
   ]
  },
  {
   "cell_type": "code",
   "execution_count": 2,
   "metadata": {},
   "outputs": [
    {
     "name": "stdout",
     "output_type": "stream",
     "text": [
      "gone\n",
      "xxxx\n"
     ]
    }
   ],
   "source": [
    "S = input()\n",
    "print('x' * len(S))"
   ]
  },
  {
   "cell_type": "markdown",
   "metadata": {},
   "source": [
    "・C - Distinct or Not"
   ]
  },
  {
   "cell_type": "code",
   "execution_count": 6,
   "metadata": {},
   "outputs": [
    {
     "name": "stdout",
     "output_type": "stream",
     "text": [
      "2\n",
      "10000000 10000000\n",
      "NO\n"
     ]
    }
   ],
   "source": [
    "N = int(input())\n",
    "A = list(map(int, input().split()))\n",
    "print('YES' if len(set(A)) == N else 'NO')"
   ]
  },
  {
   "cell_type": "markdown",
   "metadata": {},
   "source": [
    "・D - Dice in Line"
   ]
  },
  {
   "cell_type": "code",
   "execution_count": 4,
   "metadata": {},
   "outputs": [
    {
     "name": "stdout",
     "output_type": "stream",
     "text": [
      "10 4\n",
      "17 13 13 12 15 20 10 13 17 11\n",
      "32.0\n"
     ]
    }
   ],
   "source": [
    "N, K = list(map(int, input().split()))\n",
    "P = list(map(int, input().split()))\n",
    " \n",
    "aves = [(i + 1) / 2 for i in P]\n",
    "max_ave = sum(aves[0:K])\n",
    "temp = max_ave\n",
    "for i in range(N - K):\n",
    "    temp -= aves[i]\n",
    "    temp += aves[i + K]\n",
    "    if temp > max_ave:\n",
    "        max_ave = temp\n",
    "print(max_ave)"
   ]
  }
 ],
 "metadata": {
  "kernelspec": {
   "display_name": "Python 3",
   "language": "python",
   "name": "python3"
  },
  "language_info": {
   "codemirror_mode": {
    "name": "ipython",
    "version": 3
   },
   "file_extension": ".py",
   "mimetype": "text/x-python",
   "name": "python",
   "nbconvert_exporter": "python",
   "pygments_lexer": "ipython3",
   "version": "3.7.1"
  }
 },
 "nbformat": 4,
 "nbformat_minor": 2
}
