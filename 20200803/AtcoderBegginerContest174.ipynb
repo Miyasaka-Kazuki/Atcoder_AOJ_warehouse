{
 "cells": [
  {
   "cell_type": "code",
   "execution_count": 2,
   "metadata": {},
   "outputs": [
    {
     "name": "stdout",
     "output_type": "stream",
     "text": [
      "40\n",
      "Yes\n"
     ]
    }
   ],
   "source": [
    "# A\n",
    "X = int(input())\n",
    "print('Yes' if X >= 30 else 'No')"
   ]
  },
  {
   "cell_type": "code",
   "execution_count": 4,
   "metadata": {},
   "outputs": [
    {
     "name": "stdout",
     "output_type": "stream",
     "text": [
      "4 5\n",
      "0 5\n",
      "-2 4\n",
      "3 4\n",
      "4 -4\n",
      "3\n"
     ]
    }
   ],
   "source": [
    "# B\n",
    "N, D = list(map(int, input().split()))\n",
    " \n",
    "count = 0\n",
    "for _ in range(N):\n",
    "    X, Y = list(map(int, input().split()))\n",
    "    if X * X + Y * Y <= D ** 2 :\n",
    "        count += 1\n",
    "print(count)"
   ]
  },
  {
   "cell_type": "code",
   "execution_count": 5,
   "metadata": {},
   "outputs": [
    {
     "name": "stdout",
     "output_type": "stream",
     "text": [
      "101\n",
      "4\n"
     ]
    }
   ],
   "source": [
    "# C 分かんなかった\n",
    "K = int(input())\n",
    " \n",
    "sevens_mod = 7 % K\n",
    "flag = False\n",
    "ans = -1\n",
    "for i in range(K):\n",
    "    if sevens_mod == 0:\n",
    "        flag = True\n",
    "        ans = i + 1\n",
    "        break\n",
    "    sevens_mod = (sevens_mod * 10 + 7) % K\n",
    "print(ans if flag else -1)"
   ]
  }
 ],
 "metadata": {
  "kernelspec": {
   "display_name": "Python 3",
   "language": "python",
   "name": "python3"
  },
  "language_info": {
   "codemirror_mode": {
    "name": "ipython",
    "version": 3
   },
   "file_extension": ".py",
   "mimetype": "text/x-python",
   "name": "python",
   "nbconvert_exporter": "python",
   "pygments_lexer": "ipython3",
   "version": "3.7.2"
  }
 },
 "nbformat": 4,
 "nbformat_minor": 2
}
