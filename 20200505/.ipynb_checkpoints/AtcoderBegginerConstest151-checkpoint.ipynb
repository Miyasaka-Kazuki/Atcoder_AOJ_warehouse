{
 "cells": [
  {
   "cell_type": "markdown",
   "metadata": {},
   "source": [
    "・D - Maze Master"
   ]
  },
  {
   "cell_type": "code",
   "execution_count": 2,
   "metadata": {},
   "outputs": [
    {
     "name": "stdout",
     "output_type": "stream",
     "text": [
      "3 5\n",
      "...#.\n",
      ".#.#.\n",
      ".#...\n",
      "10\n"
     ]
    }
   ],
   "source": [
    "#appendを使ったバージョン\n",
    "H, W = list(map(int, input().split()))\n",
    "S = [input() for _ in range(H)]\n",
    " \n",
    "def update(y, x, direction, d, q):\n",
    "    next_y, next_x = (y + direction[0], x + direction[1])\n",
    "    if (next_y < 0 or next_y >= H or next_x < 0 or next_x >= W): # 端なら\n",
    "        return\n",
    "    if (S[next_y][next_x] == '#') or (d[next_y][next_x] != -1): # 壁か既に訪問状態なら\n",
    "        return \n",
    "    d[next_y][next_x] = d[y][x] + 1\n",
    "    q.append((next_y, next_x))\n",
    "    \n",
    "def bfs(i, j):\n",
    "    DIJ = ((-1, 0), (0, -1), (1, 0), (0, 1)) # (y, x):下, 左, 上, 右\n",
    "    dist = [[-1] * W for _ in range(H)]\n",
    "    dist[i][j] = 0 #始点は０\n",
    " \n",
    "    queue = [(i, j)]\n",
    "    while queue:\n",
    "        cur_y, cur_x = queue.pop(0)\n",
    "        for i in range(4):\n",
    "            update(cur_y, cur_x, DIJ[i], dist, queue)\n",
    "    return max(max(dd) for dd in dist)\n",
    "    \n",
    "max_results = 0\n",
    "for i in range(H):\n",
    "    for j in range(W):\n",
    "        if S[i][j] != '#':\n",
    "            max_results = max(bfs(i, j), max_results) \n",
    "print(max_results)"
   ]
  },
  {
   "cell_type": "code",
   "execution_count": 1,
   "metadata": {},
   "outputs": [
    {
     "name": "stdout",
     "output_type": "stream",
     "text": [
      "3 5\n",
      "...#.\n",
      ".#.#.\n",
      ".#...\n",
      "10\n"
     ]
    }
   ],
   "source": [
    "#appendを使わないバージョン\n",
    "H, W = list(map(int, input().split()))\n",
    "S = [input() for _ in range(H)]\n",
    " \n",
    "def update(y, x, direction, d, q, end_pos):\n",
    "    next_y, next_x = (y + direction[0], x + direction[1])\n",
    "    if (next_y < 0 or next_y >= H or next_x < 0 or next_x >= W): # 端なら\n",
    "        return end_pos \n",
    "    if (S[next_y][next_x] == '#') or (d[next_y][next_x] != -1): # 壁か既に訪問状態なら\n",
    "        return end_pos\n",
    "    d[next_y][next_x] = d[y][x] + 1\n",
    "    q[end_pos] = (next_y, next_x)\n",
    "    return end_pos + 1\n",
    "    \n",
    "def bfs(i, j):\n",
    "    DIJ = ((-1, 0), (0, -1), (1, 0), (0, 1)) # (y, x):下, 左, 上, 右\n",
    "    dist = [[-1] * W for _ in range(H)]\n",
    "    dist[i][j] = 0 #始点は０\n",
    " \n",
    "    wall_num = sum(ss.count('#') for ss in S)\n",
    "    queue = [(-1, -1) for _ in range(H * W - wall_num)]\n",
    "    queue[0] = (i, j)\n",
    "    queue_end_pos = 1 # 一番後ろの値の+1\n",
    "    while queue:\n",
    "        cur_y, cur_x = queue.pop(0)\n",
    "        queue_end_pos -= 1\n",
    "        for i in range(4):\n",
    "            queue_end_pos = \\\n",
    "            update(cur_y, cur_x, DIJ[i], dist, queue, queue_end_pos)\n",
    "    return max(max(dd) for dd in dist)\n",
    "    \n",
    "max_results = 0\n",
    "for i in range(H):\n",
    "    for j in range(W):\n",
    "        if S[i][j] != '#':\n",
    "            max_results = max(bfs(i, j), max_results) \n",
    "print(max_results)"
   ]
  }
 ],
 "metadata": {
  "kernelspec": {
   "display_name": "Python 3",
   "language": "python",
   "name": "python3"
  },
  "language_info": {
   "codemirror_mode": {
    "name": "ipython",
    "version": 3
   },
   "file_extension": ".py",
   "mimetype": "text/x-python",
   "name": "python",
   "nbconvert_exporter": "python",
   "pygments_lexer": "ipython3",
   "version": "3.7.1"
  }
 },
 "nbformat": 4,
 "nbformat_minor": 2
}
