{
 "cells": [
  {
   "cell_type": "markdown",
   "metadata": {},
   "source": [
    "・A - Next Alphabet"
   ]
  },
  {
   "cell_type": "code",
   "execution_count": 1,
   "metadata": {},
   "outputs": [
    {
     "name": "stdout",
     "output_type": "stream",
     "text": [
      "y\n",
      "z\n"
     ]
    }
   ],
   "source": [
    "C = input()\n",
    "print(chr(ord(C) + 1))"
   ]
  },
  {
   "cell_type": "markdown",
   "metadata": {},
   "source": [
    "・B - Achieve the Goal"
   ]
  },
  {
   "cell_type": "code",
   "execution_count": 3,
   "metadata": {},
   "outputs": [
    {
     "name": "stdout",
     "output_type": "stream",
     "text": [
      "4 100 60\n",
      "0 0 0\n",
      "-1\n"
     ]
    }
   ],
   "source": [
    "N, K, M = list(map(int, input().split()))\n",
    "A = list(map(int, input().split()))\n",
    " \n",
    "# M <= (Ai + ... + Ai-1 + x) / N の式変換\n",
    "x = N * M - sum(A)\n",
    "if 0 <= x <= K:\n",
    "    print(x)\n",
    "elif x < 0:\n",
    "    print(0)\n",
    "else:\n",
    "    print(-1)"
   ]
  },
  {
   "cell_type": "markdown",
   "metadata": {},
   "source": [
    "・C - Welcome to AtCoder"
   ]
  },
  {
   "cell_type": "code",
   "execution_count": 5,
   "metadata": {},
   "outputs": [
    {
     "name": "stdout",
     "output_type": "stream",
     "text": [
      "6 0\n",
      "0 0\n"
     ]
    }
   ],
   "source": [
    "N, M = list(map(int, input().split()))\n",
    "submits = [[] for i in range(M)]\n",
    "for i in range(M):\n",
    "    submits[i] = input().split()\n",
    "    submits[i][0] = int(submits[i][0])\n",
    "\n",
    "AC_number = [0 for i in range(N)] #バケット\n",
    "WA_number = [0 for i in range(N)] #バケット\n",
    "for i in range(M):\n",
    "    #WAが出て、まだ終わってない問題なら\n",
    "    if submits[i][1] != 'AC' and AC_number[submits[i][0] - 1] != 1:\n",
    "        WA_number[submits[i][0] - 1] += 1\n",
    "    \n",
    "    #ACが出たら\n",
    "    if submits[i][1] == 'AC':\n",
    "        AC_number[submits[i][0] - 1] = 1\n",
    "        \n",
    "AC_count = 0\n",
    "WA_count = 0\n",
    "for i in range(N):\n",
    "    if AC_number[i] == 1:\n",
    "        AC_count += 1\n",
    "        WA_count += WA_number[i]\n",
    "print(AC_count, WA_count)"
   ]
  }
 ],
 "metadata": {
  "kernelspec": {
   "display_name": "Python 3",
   "language": "python",
   "name": "python3"
  },
  "language_info": {
   "codemirror_mode": {
    "name": "ipython",
    "version": 3
   },
   "file_extension": ".py",
   "mimetype": "text/x-python",
   "name": "python",
   "nbconvert_exporter": "python",
   "pygments_lexer": "ipython3",
   "version": "3.7.1"
  }
 },
 "nbformat": 4,
 "nbformat_minor": 2
}
