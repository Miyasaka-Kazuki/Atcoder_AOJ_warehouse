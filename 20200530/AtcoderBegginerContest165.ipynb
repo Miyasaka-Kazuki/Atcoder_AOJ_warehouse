{
 "cells": [
  {
   "cell_type": "markdown",
   "metadata": {},
   "source": [
    "・A - We Love Golf"
   ]
  },
  {
   "cell_type": "code",
   "execution_count": 6,
   "metadata": {},
   "outputs": [
    {
     "name": "stdout",
     "output_type": "stream",
     "text": [
      "1\n",
      "11 11\n",
      "OK\n"
     ]
    }
   ],
   "source": [
    "K = int(input())\n",
    "A, B = list(map(int, input().split()))\n",
    "\n",
    "print('OK') if (A + K - 1) // K * K <= B else print('NG')"
   ]
  },
  {
   "cell_type": "markdown",
   "metadata": {},
   "source": [
    "・B - 1%"
   ]
  },
  {
   "cell_type": "code",
   "execution_count": 13,
   "metadata": {},
   "outputs": [
    {
     "name": "stdout",
     "output_type": "stream",
     "text": [
      "1000000000000000000\n",
      "3760\n"
     ]
    }
   ],
   "source": [
    "X = int(input())\n",
    "\n",
    "m = 100\n",
    "count = 0\n",
    "while m < X:\n",
    "    m = int(m * 1.01)\n",
    "    count += 1\n",
    "print(count)"
   ]
  },
  {
   "cell_type": "markdown",
   "metadata": {},
   "source": [
    "・C - Many Requirements"
   ]
  },
  {
   "cell_type": "code",
   "execution_count": 43,
   "metadata": {},
   "outputs": [
    {
     "name": "stdout",
     "output_type": "stream",
     "text": [
      "3 4 3\n",
      "1 3 3 100\n",
      "1 2 2 10\n",
      "2 3 2 10\n",
      "110\n"
     ]
    }
   ],
   "source": [
    "import copy\n",
    "N, M, Q = list(map(int, input().split()))\n",
    "Qs = [[0] * 4 for i in range(Q)]\n",
    "for i in range(Q):\n",
    "    Qs[i][0], Qs[i][1], Qs[i][2], Qs[i][3] = list(map(int, input().split()))\n",
    "ans = -1\n",
    "\n",
    "# 再帰で全探索\n",
    "# 後ろから<=Mまで順番に1増加させることで、それぞれ<=Mの広義単調増加の全探索ができる\n",
    "def dfs(A):\n",
    "    global ans\n",
    "    if len(A) == N + 1:\n",
    "        sum_ = 0\n",
    "        for i in range(Q):\n",
    "            if A[Qs[i][1]] - A[Qs[i][0]] == Qs[i][2]:\n",
    "                sum_ += Qs[i][3]\n",
    "        ans = max(ans, sum_)\n",
    "        return\n",
    "        \n",
    "    A.append(A[-1])\n",
    "    while (A[-1] <= M):\n",
    "        dfs(copy.copy(A))\n",
    "        A[-1] += 1\n",
    "    return\n",
    "\n",
    "dfs([1])\n",
    "print(ans)"
   ]
  }
 ],
 "metadata": {
  "kernelspec": {
   "display_name": "Python 3",
   "language": "python",
   "name": "python3"
  },
  "language_info": {
   "codemirror_mode": {
    "name": "ipython",
    "version": 3
   },
   "file_extension": ".py",
   "mimetype": "text/x-python",
   "name": "python",
   "nbconvert_exporter": "python",
   "pygments_lexer": "ipython3",
   "version": "3.7.2"
  }
 },
 "nbformat": 4,
 "nbformat_minor": 2
}
