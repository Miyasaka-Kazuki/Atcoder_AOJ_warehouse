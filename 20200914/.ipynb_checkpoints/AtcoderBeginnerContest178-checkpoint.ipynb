{
 "cells": [
  {
   "cell_type": "code",
   "execution_count": 1,
   "metadata": {},
   "outputs": [
    {
     "name": "stdout",
     "output_type": "stream",
     "text": [
      "0\n",
      "1\n"
     ]
    }
   ],
   "source": [
    "# A - Not\n",
    "print(1) if int(input()) == 0 else print(0)"
   ]
  },
  {
   "cell_type": "code",
   "execution_count": 2,
   "metadata": {},
   "outputs": [
    {
     "name": "stdout",
     "output_type": "stream",
     "text": [
      "1 2 1 1\n",
      "2\n"
     ]
    }
   ],
   "source": [
    "# B - Product Max\n",
    "a, b, c, d = list(map(int, input().split()))\n",
    "products = [a * c, a * d, b * c, b * d]\n",
    "print(max(products))"
   ]
  },
  {
   "cell_type": "code",
   "execution_count": 5,
   "metadata": {},
   "outputs": [
    {
     "name": "stdout",
     "output_type": "stream",
     "text": [
      "869121\n",
      "218086075\n"
     ]
    }
   ],
   "source": [
    "# C - Ubiquity(自分の誤解答) \n",
    "N = int(input())\n",
    "# (0.9)確定以外のAnの場合の数 * [(0.9), (9,0)]の２通り * [(0,9),(9,0)]の場合の数\n",
    "ans = (10 ** (N - 2) * 2 * (N - 1)) % (10 ** 9 + 7) \n",
    "print(ans)"
   ]
  },
  {
   "cell_type": "code",
   "execution_count": 6,
   "metadata": {},
   "outputs": [
    {
     "name": "stdout",
     "output_type": "stream",
     "text": [
      "869121\n",
      "2511445\n"
     ]
    }
   ],
   "source": [
    "# C - Ubiquity(正解例)\n",
    "N = int(input())\n",
    "# {A:数列に0だけ存在しない集合, B:数列に9だけ存在しない集合}\n",
    "# 全体集合 - (A + B) + A and B \n",
    "ans = (10 ** N - 9 ** N * 2 + 8 ** N) % (10 ** 9 + 7) \n",
    "print(ans)"
   ]
  }
 ],
 "metadata": {
  "kernelspec": {
   "display_name": "Python 3",
   "language": "python",
   "name": "python3"
  },
  "language_info": {
   "codemirror_mode": {
    "name": "ipython",
    "version": 3
   },
   "file_extension": ".py",
   "mimetype": "text/x-python",
   "name": "python",
   "nbconvert_exporter": "python",
   "pygments_lexer": "ipython3",
   "version": "3.7.2"
  }
 },
 "nbformat": 4,
 "nbformat_minor": 2
}
