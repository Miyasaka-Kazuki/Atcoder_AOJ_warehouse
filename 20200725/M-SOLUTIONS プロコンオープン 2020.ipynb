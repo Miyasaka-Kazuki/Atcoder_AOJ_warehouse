{
 "cells": [
  {
   "cell_type": "code",
   "execution_count": 1,
   "metadata": {},
   "outputs": [
    {
     "name": "stdout",
     "output_type": "stream",
     "text": [
      "725\n",
      "7\n"
     ]
    }
   ],
   "source": [
    "# A\n",
    "X = int(input())\n",
    "kyu = [8, 7, 6, 5, 4, 3, 2]\n",
    "rate = [600, 800, 1000, 1200, 1400, 1600, 1800]\n",
    " \n",
    "flag = True\n",
    "for k, r in zip(kyu, rate):\n",
    "    if X < r:\n",
    "        print(k)\n",
    "        flag = False\n",
    "        break\n",
    "if flag:\n",
    "    print(1)"
   ]
  },
  {
   "cell_type": "code",
   "execution_count": 2,
   "metadata": {},
   "outputs": [
    {
     "name": "stdout",
     "output_type": "stream",
     "text": [
      "7 2 5\n",
      "3\n",
      "Yes\n"
     ]
    }
   ],
   "source": [
    "# B\n",
    "A, B, C = list(map(int, input().split()))\n",
    "K = int(input())\n",
    " \n",
    "count = 0\n",
    "while A >= B:\n",
    "    B *= 2\n",
    "    count += 1\n",
    "while B >= C:\n",
    "    C *= 2\n",
    "    count += 1\n",
    "print('Yes' if count <= K else 'No')"
   ]
  }
 ],
 "metadata": {
  "kernelspec": {
   "display_name": "Python 3",
   "language": "python",
   "name": "python3"
  },
  "language_info": {
   "codemirror_mode": {
    "name": "ipython",
    "version": 3
   },
   "file_extension": ".py",
   "mimetype": "text/x-python",
   "name": "python",
   "nbconvert_exporter": "python",
   "pygments_lexer": "ipython3",
   "version": "3.7.2"
  }
 },
 "nbformat": 4,
 "nbformat_minor": 2
}
