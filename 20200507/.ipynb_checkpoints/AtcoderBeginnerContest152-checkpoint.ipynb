{
 "cells": [
  {
   "cell_type": "markdown",
   "metadata": {},
   "source": [
    "・A - AC or WA"
   ]
  },
  {
   "cell_type": "code",
   "execution_count": 1,
   "metadata": {},
   "outputs": [
    {
     "name": "stdout",
     "output_type": "stream",
     "text": [
      "1 1\n",
      "Yes\n"
     ]
    }
   ],
   "source": [
    "N, M = list(map(int, input().split()))\n",
    "print('Yes') if M >= N else print('No')"
   ]
  },
  {
   "cell_type": "markdown",
   "metadata": {},
   "source": [
    "・B - Comparing Strings"
   ]
  },
  {
   "cell_type": "code",
   "execution_count": 3,
   "metadata": {},
   "outputs": [
    {
     "name": "stdout",
     "output_type": "stream",
     "text": [
      "7 7\n",
      "7777777\n"
     ]
    }
   ],
   "source": [
    "a, b = input().split()\n",
    "a_S = a * int(b)\n",
    "b_S = b * int(a)\n",
    "print(a_S) if a_S < b_S else print(b_S)"
   ]
  },
  {
   "cell_type": "markdown",
   "metadata": {},
   "source": [
    "・C - Low Elements"
   ]
  },
  {
   "cell_type": "code",
   "execution_count": 5,
   "metadata": {},
   "outputs": [
    {
     "name": "stdout",
     "output_type": "stream",
     "text": [
      "8\n",
      "5 7 4 2 6 8 1 3\n",
      "4\n"
     ]
    }
   ],
   "source": [
    "N = int(input())\n",
    "P = list(map(int, input().split()))\n",
    " \n",
    "count = 0\n",
    "min_P = P[0]\n",
    "for i in range(N):\n",
    "    if P[i] <= min_P:\n",
    "        count += 1\n",
    "        min_P = P[i]\n",
    "print(count)"
   ]
  },
  {
   "cell_type": "code",
   "execution_count": null,
   "metadata": {},
   "outputs": [],
   "source": []
  }
 ],
 "metadata": {
  "kernelspec": {
   "display_name": "Python 3",
   "language": "python",
   "name": "python3"
  },
  "language_info": {
   "codemirror_mode": {
    "name": "ipython",
    "version": 3
   },
   "file_extension": ".py",
   "mimetype": "text/x-python",
   "name": "python",
   "nbconvert_exporter": "python",
   "pygments_lexer": "ipython3",
   "version": "3.7.1"
  }
 },
 "nbformat": 4,
 "nbformat_minor": 2
}
