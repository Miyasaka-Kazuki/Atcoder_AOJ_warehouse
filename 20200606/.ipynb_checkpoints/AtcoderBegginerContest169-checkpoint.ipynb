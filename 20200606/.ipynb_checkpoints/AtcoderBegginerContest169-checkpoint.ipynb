{
 "cells": [
  {
   "cell_type": "markdown",
   "metadata": {},
   "source": [
    "・A - Multiplication 1"
   ]
  },
  {
   "cell_type": "code",
   "execution_count": 56,
   "metadata": {},
   "outputs": [
    {
     "name": "stdout",
     "output_type": "stream",
     "text": [
      "2 5\n",
      "10\n"
     ]
    }
   ],
   "source": [
    "A, B = list(map(int, input().split()))\n",
    "print(A * B)"
   ]
  },
  {
   "cell_type": "markdown",
   "metadata": {},
   "source": [
    "・B - Multiplication 2"
   ]
  },
  {
   "cell_type": "code",
   "execution_count": 16,
   "metadata": {},
   "outputs": [
    {
     "name": "stdout",
     "output_type": "stream",
     "text": [
      "2\n",
      "1000000000 1000000000\n",
      "1000000000000000000\n",
      "1000000000000000000\n"
     ]
    }
   ],
   "source": [
    "# オーバーフローの問題\n",
    "# オーバーフローする前にlimitを超えれば-1を出力するが、 \n",
    "# ０が来たら途中でオーバーフローしても出力は０になるので先に０があるか検索しておく必要がある。\n",
    "N = int(input())\n",
    "A = list(map(int, input().split()))\n",
    "limit = 1000000000000000000\n",
    "ans = 1\n",
    "for i in range(N):\n",
    "    if A[i] == 0:\n",
    "        ans = 0\n",
    "\n",
    "flag = False\n",
    "for i in range(N):\n",
    "    ans *= A[i]  \n",
    "    if ans > limit:\n",
    "        flag = True\n",
    "        break\n",
    "print(-1) if flag else print(ans)"
   ]
  },
  {
   "cell_type": "markdown",
   "metadata": {},
   "source": [
    "・C - Multiplication 3"
   ]
  },
  {
   "cell_type": "code",
   "execution_count": 2,
   "metadata": {},
   "outputs": [
    {
     "name": "stdout",
     "output_type": "stream",
     "text": [
      "198 1.10\n",
      "217\n"
     ]
    }
   ],
   "source": [
    "AB = list(input().split())\n",
    "A = int(AB[0])\n",
    "# 小数 * 整数は誤差が出るが+-0.5より大きい誤差が出なければ,\n",
    "# floatからintへの変換は切り捨てなので+0.5することで+-0.5以内の誤差なら正しく変換できる。\n",
    "# (この問題は+0.5でなく+0.1でもACできた)\n",
    "B = int(float(AB[1]) * 100 + 0.5) \n",
    "print(A * B // 100)"
   ]
  },
  {
   "cell_type": "code",
   "execution_count": 1,
   "metadata": {},
   "outputs": [
    {
     "name": "stdout",
     "output_type": "stream",
     "text": [
      "198 1.10\n",
      "217\n"
     ]
    }
   ],
   "source": [
    "AB = list(input().split())\n",
    "A = int(AB[0])\n",
    "# こちらは文字列から直接ドット以外を抽出して実質100倍にしてから文字列を整数に変換したもの\n",
    "# 小数は関わってないので正しく変換できる。\n",
    "B = int(AB[1][:1] + AB[1][2:])\n",
    "print(A * B // 100)"
   ]
  }
 ],
 "metadata": {
  "kernelspec": {
   "display_name": "Python 3",
   "language": "python",
   "name": "python3"
  },
  "language_info": {
   "codemirror_mode": {
    "name": "ipython",
    "version": 3
   },
   "file_extension": ".py",
   "mimetype": "text/x-python",
   "name": "python",
   "nbconvert_exporter": "python",
   "pygments_lexer": "ipython3",
   "version": "3.7.2"
  }
 },
 "nbformat": 4,
 "nbformat_minor": 2
}
