{
 "cells": [
  {
   "cell_type": "markdown",
   "metadata": {},
   "source": [
    "・E - Crested Ibis vs Monster"
   ]
  },
  {
   "cell_type": "code",
   "execution_count": 8,
   "metadata": {},
   "outputs": [
    {
     "name": "stdout",
     "output_type": "stream",
     "text": [
      "100 6\n",
      "1 1\n",
      "2 3\n",
      "3 9\n",
      "4 27\n",
      "5 81\n",
      "6 243\n",
      "100\n"
     ]
    }
   ],
   "source": [
    "# おそらく合っているが、pythonが遅すぎてTLEがいくつか出た\n",
    "H, N = list(map(int, input().split()))\n",
    "dp = [float('inf') for i in range(H + 1)]\n",
    "\n",
    "dp[0] = 0 # 初期化\n",
    "for i in range(N): #ナップザック問題の動的計画法\n",
    "    A, B = list(map(int, input().split()))\n",
    "    for j in range(H):\n",
    "        nj = min(j + A, H) # 配列外参照防止\n",
    "        dp[nj] = min(dp[nj], dp[j] + B)\n",
    "print(dp[H])"
   ]
  },
  {
   "cell_type": "code",
   "execution_count": 13,
   "metadata": {},
   "outputs": [
    {
     "name": "stdout",
     "output_type": "stream",
     "text": [
      "100 6\n",
      "1 1\n",
      "2 3\n",
      "3 9\n",
      "4 27\n",
      "5 81\n",
      "6 243\n",
      "100\n"
     ]
    }
   ],
   "source": [
    "#  dpの作成方法を変えたもの(TLEの数は同じ)\n",
    "H, N = list(map(int, input().split()))\n",
    "dp = [float('inf') for i in range(H + 1)]\n",
    "\n",
    "dp[0] = 0 # 初期化\n",
    "for i in range(N): #ナップザック問題の動的計画法\n",
    "    A, B = list(map(int, input().split()))\n",
    "    for j in range(1, H + 1):\n",
    "        nj = max(j - A, 0) # 配列外参照防止\n",
    "        dp[j] = min(dp[j], dp[nj] + B)\n",
    "print(dp[H])"
   ]
  },
  {
   "cell_type": "code",
   "execution_count": null,
   "metadata": {},
   "outputs": [],
   "source": [
    "#C++に変えたら全部できたので上のコードもおそらく正しい\n",
    "\n",
    "#pythonの上のコード\n",
    "# #include <iostream>\n",
    "# #include <bits/stdc++.h>\n",
    "# using namespace std;\n",
    "# const int INF = 1001001001;\n",
    "\n",
    "# int main(void){\n",
    "#     int H, N;\n",
    "#     cin >> H >> N;\n",
    "#     vector<int> dp(H + 1, INF);\n",
    "#     dp[0] = 0; \n",
    "#     for(int i = 0; i < N; i++){\n",
    "#         int A, B;\n",
    "#         cin >> A >> B;\n",
    "#         for(int j = 0; j < H; j++){\n",
    "#             int nj = min(j + A, H);\n",
    "#             dp[nj] = min(dp[nj], dp[j] + B);\n",
    "#         }\n",
    "#     }\n",
    "#     cout << dp[H] << endl;\n",
    "# }\n",
    "\n",
    "\n",
    "#pythonの下のコード\n",
    "# #include <iostream>\n",
    "# #include <bits/stdc++.h>\n",
    "# using namespace std;\n",
    "# const int INF = 1001001001;\n",
    "\n",
    "# int main(void){\n",
    "#     int H, N;\n",
    "#     cin >> H >> N;\n",
    "#     vector<int> dp(H + 1, INF);\n",
    "#     dp[0] = 0; \n",
    "#     for(int i = 0; i < N; i++){\n",
    "#         int A, B;\n",
    "#         cin >> A >> B;\n",
    "#         for(int j = 1; j <= H; j++){\n",
    "#             int nj = max(j - A, 0);\n",
    "#             dp[j] = min(dp[j], dp[nj] + B);\n",
    "#         }\n",
    "#     }\n",
    "#     cout << dp[H] << endl;\n",
    "# }\n"
   ]
  }
 ],
 "metadata": {
  "kernelspec": {
   "display_name": "Python 3",
   "language": "python",
   "name": "python3"
  },
  "language_info": {
   "codemirror_mode": {
    "name": "ipython",
    "version": 3
   },
   "file_extension": ".py",
   "mimetype": "text/x-python",
   "name": "python",
   "nbconvert_exporter": "python",
   "pygments_lexer": "ipython3",
   "version": "3.7.1"
  }
 },
 "nbformat": 4,
 "nbformat_minor": 2
}
