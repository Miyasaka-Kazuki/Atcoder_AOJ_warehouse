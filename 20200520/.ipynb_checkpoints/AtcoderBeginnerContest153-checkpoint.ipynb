{
 "cells": [
  {
   "cell_type": "markdown",
   "metadata": {},
   "source": [
    "・E - Crested Ibis vs Monster"
   ]
  },
  {
   "cell_type": "code",
   "execution_count": 8,
   "metadata": {},
   "outputs": [
    {
     "name": "stdout",
     "output_type": "stream",
     "text": [
      "100 6\n",
      "1 1\n",
      "2 3\n",
      "3 9\n",
      "4 27\n",
      "5 81\n",
      "6 243\n",
      "100\n"
     ]
    }
   ],
   "source": [
    "# おそらく合っているが、pythonが遅すぎてTLEがいくつか出た\n",
    "H, N = list(map(int, input().split()))\n",
    "dp = [float('inf') for i in range(H + 1)]\n",
    "\n",
    "dp[0] = 0 # 初期化\n",
    "for i in range(N): #ナップザック問題の動的計画法\n",
    "    A, B = list(map(int, input().split()))\n",
    "    for j in range(H):\n",
    "        nj = min(j + A, H) # 配列外参照防止\n",
    "        dp[nj] = min(dp[nj], dp[j] + B)\n",
    "print(dp[H])"
   ]
  },
  {
   "cell_type": "code",
   "execution_count": 13,
   "metadata": {},
   "outputs": [
    {
     "name": "stdout",
     "output_type": "stream",
     "text": [
      "100 6\n",
      "1 1\n",
      "2 3\n",
      "3 9\n",
      "4 27\n",
      "5 81\n",
      "6 243\n",
      "100\n"
     ]
    }
   ],
   "source": [
    "#  dpの作成方法を変えたもの(TLEの数は同じ)\n",
    "H, N = list(map(int, input().split()))\n",
    "dp = [float('inf') for i in range(H + 1)]\n",
    "\n",
    "dp[0] = 0 # 初期化\n",
    "for i in range(N): #ナップザック問題の動的計画法\n",
    "    A, B = list(map(int, input().split()))\n",
    "    for j in range(1, H + 1):\n",
    "        nj = max(j - A, 0) # 配列外参照防止\n",
    "        dp[j] = min(dp[j], dp[nj] + B)\n",
    "print(dp[H])"
   ]
  }
 ],
 "metadata": {
  "kernelspec": {
   "display_name": "Python 3",
   "language": "python",
   "name": "python3"
  },
  "language_info": {
   "codemirror_mode": {
    "name": "ipython",
    "version": 3
   },
   "file_extension": ".py",
   "mimetype": "text/x-python",
   "name": "python",
   "nbconvert_exporter": "python",
   "pygments_lexer": "ipython3",
   "version": "3.7.1"
  }
 },
 "nbformat": 4,
 "nbformat_minor": 2
}
