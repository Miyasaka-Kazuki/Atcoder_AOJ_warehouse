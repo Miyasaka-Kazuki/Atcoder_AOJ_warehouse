{
 "cells": [
  {
   "cell_type": "markdown",
   "metadata": {},
   "source": [
    "・C - Buy an Integer"
   ]
  },
  {
   "cell_type": "code",
   "execution_count": 26,
   "metadata": {},
   "outputs": [
    {
     "name": "stdout",
     "output_type": "stream",
     "text": [
      "1234 56789 314159265\n",
      "254309\n"
     ]
    }
   ],
   "source": [
    "left = 0\n",
    "right = 10 ** 9 + 1\n",
    "a, b, x = map(int, input().split())\n",
    "\n",
    "keta = lambda num: len(str(num))\n",
    "f = lambda mid: a * mid + b * keta(mid)\n",
    "while right - left > 1:\n",
    "    mid = (left + right) // 2\n",
    "    if f(mid) <= x:\n",
    "        left = mid\n",
    "    else:\n",
    "        right = mid\n",
    "        \n",
    "print(left)"
   ]
  }
 ],
 "metadata": {
  "kernelspec": {
   "display_name": "Python 3",
   "language": "python",
   "name": "python3"
  },
  "language_info": {
   "codemirror_mode": {
    "name": "ipython",
    "version": 3
   },
   "file_extension": ".py",
   "mimetype": "text/x-python",
   "name": "python",
   "nbconvert_exporter": "python",
   "pygments_lexer": "ipython3",
   "version": "3.7.1"
  }
 },
 "nbformat": 4,
 "nbformat_minor": 2
}
