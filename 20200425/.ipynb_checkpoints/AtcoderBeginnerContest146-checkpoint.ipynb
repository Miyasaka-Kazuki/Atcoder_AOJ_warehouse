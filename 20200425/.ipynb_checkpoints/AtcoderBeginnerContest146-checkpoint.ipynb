{
 "cells": [
  {
   "cell_type": "markdown",
   "metadata": {},
   "source": [
    "・C - Buy an Integer"
   ]
  },
  {
   "cell_type": "code",
   "execution_count": 23,
   "metadata": {},
   "outputs": [
    {
     "name": "stdout",
     "output_type": "stream",
     "text": [
      "1234 56789 314159265\n",
      "254309\n"
     ]
    }
   ],
   "source": [
    "left = 0\n",
    "right = 1000000001\n",
    "a, b, x = map(int, input().split())\n",
    "\n",
    "def keta(num):\n",
    "    res = 0\n",
    "    while(num > 1):\n",
    "        num /= 10\n",
    "        res += 1\n",
    "    return res\n",
    "    \n",
    "f = lambda mid: a * mid + b * keta(mid)\n",
    "while right - left > 1:\n",
    "    mid = int((left + right) / 2)\n",
    "    if f(mid) <= x:\n",
    "        left = mid\n",
    "    else:\n",
    "        right = mid\n",
    "        \n",
    "print(left)"
   ]
  }
 ],
 "metadata": {
  "kernelspec": {
   "display_name": "Python 3",
   "language": "python",
   "name": "python3"
  },
  "language_info": {
   "codemirror_mode": {
    "name": "ipython",
    "version": 3
   },
   "file_extension": ".py",
   "mimetype": "text/x-python",
   "name": "python",
   "nbconvert_exporter": "python",
   "pygments_lexer": "ipython3",
   "version": "3.7.1"
  }
 },
 "nbformat": 4,
 "nbformat_minor": 2
}
