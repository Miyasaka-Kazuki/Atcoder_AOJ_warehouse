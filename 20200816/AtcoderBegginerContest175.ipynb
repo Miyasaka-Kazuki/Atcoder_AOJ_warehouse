{
 "cells": [
  {
   "cell_type": "code",
   "execution_count": 1,
   "metadata": {},
   "outputs": [
    {
     "name": "stdout",
     "output_type": "stream",
     "text": [
      "RSR\n",
      "1\n"
     ]
    }
   ],
   "source": [
    "# A - Rainy Season\n",
    "S = list(input())\n",
    "count = 0\n",
    "ans = 0\n",
    "for w in S:\n",
    "    if w == 'R':\n",
    "        count += 1\n",
    "        \n",
    "    else:\n",
    "        count = 0\n",
    "    if count > ans:\n",
    "        ans = count\n",
    "print(ans) "
   ]
  },
  {
   "cell_type": "code",
   "execution_count": null,
   "metadata": {},
   "outputs": [],
   "source": [
    "# B - Making Triangle\n",
    "import itertools\n",
    "N = int(input())\n",
    "L = list(map(int, input().split()))\n",
    " \n",
    "count = 0\n",
    "for i in itertools.combinations(L, 3):\n",
    "    if i[0] == i[1] or i[1] == i[2] or i[0] == i[2]:\n",
    "        continue\n",
    "    if (i[0] < (i[1] + i[2])) and\\\n",
    "    (i[1] < (i[0] + i[2])) and\\\n",
    "    (i[2] < (i[0] + i[1])):\n",
    "        count += 1\n",
    "        continue\n",
    "print(count)"
   ]
  }
 ],
 "metadata": {
  "kernelspec": {
   "display_name": "Python 3",
   "language": "python",
   "name": "python3"
  },
  "language_info": {
   "codemirror_mode": {
    "name": "ipython",
    "version": 3
   },
   "file_extension": ".py",
   "mimetype": "text/x-python",
   "name": "python",
   "nbconvert_exporter": "python",
   "pygments_lexer": "ipython3",
   "version": "3.7.2"
  }
 },
 "nbformat": 4,
 "nbformat_minor": 2
}
