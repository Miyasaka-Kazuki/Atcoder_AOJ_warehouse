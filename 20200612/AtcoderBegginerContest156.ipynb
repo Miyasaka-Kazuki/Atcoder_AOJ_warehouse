{
 "cells": [
  {
   "cell_type": "markdown",
   "metadata": {},
   "source": [
    "・A - Beginner"
   ]
  },
  {
   "cell_type": "code",
   "execution_count": 2,
   "metadata": {},
   "outputs": [
    {
     "name": "stdout",
     "output_type": "stream",
     "text": [
      "22 3051\n",
      "3051\n"
     ]
    }
   ],
   "source": [
    "N, R = list(map(int, input().split()))\n",
    "if N >= 10:\n",
    "    print(R)\n",
    "else:\n",
    "    print(R + 100 * (10 - N))"
   ]
  },
  {
   "cell_type": "markdown",
   "metadata": {},
   "source": [
    "・B - Digits"
   ]
  },
  {
   "cell_type": "code",
   "execution_count": 15,
   "metadata": {},
   "outputs": [
    {
     "name": "stdout",
     "output_type": "stream",
     "text": [
      "314159265 3\n",
      "18\n"
     ]
    }
   ],
   "source": [
    "N, K = list(map(int, input().split()))\n",
    "num = K\n",
    "count = 1\n",
    "while num <= N:\n",
    "    num *= K\n",
    "    count += 1\n",
    "print(count)"
   ]
  },
  {
   "cell_type": "markdown",
   "metadata": {},
   "source": [
    "・C - Rally"
   ]
  },
  {
   "cell_type": "code",
   "execution_count": 19,
   "metadata": {},
   "outputs": [
    {
     "name": "stdout",
     "output_type": "stream",
     "text": [
      "7\n",
      "14 14 2 13 56 2 37\n",
      "2354\n"
     ]
    }
   ],
   "source": [
    "N = int(input())\n",
    "X = list(map(int, input().split()))\n",
    "\n",
    "p_max = 100\n",
    "ans_min = 1000000 # 最大でも(100 - 1) ** 2 * 100だからそれを超えればいい\n",
    "for p in range(1, p_max):\n",
    "    sum_ = 0\n",
    "    for x in X:\n",
    "        sum_ += (x - p) ** 2\n",
    "    ans_min = min(sum_, ans_min)\n",
    "print(ans_min)"
   ]
  }
 ],
 "metadata": {
  "kernelspec": {
   "display_name": "Python 3",
   "language": "python",
   "name": "python3"
  },
  "language_info": {
   "codemirror_mode": {
    "name": "ipython",
    "version": 3
   },
   "file_extension": ".py",
   "mimetype": "text/x-python",
   "name": "python",
   "nbconvert_exporter": "python",
   "pygments_lexer": "ipython3",
   "version": "3.7.2"
  }
 },
 "nbformat": 4,
 "nbformat_minor": 2
}
