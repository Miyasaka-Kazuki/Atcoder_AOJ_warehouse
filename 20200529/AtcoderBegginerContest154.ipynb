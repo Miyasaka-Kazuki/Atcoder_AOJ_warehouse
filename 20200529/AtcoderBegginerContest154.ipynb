{
 "cells": [
  {
   "cell_type": "markdown",
   "metadata": {},
   "source": [
    "・E - Almost Everywhere Zero"
   ]
  },
  {
   "cell_type": "code",
   "execution_count": null,
   "metadata": {},
   "outputs": [],
   "source": [
    "# 解けない。解説を見ても意味不明"
   ]
  },
  {
   "cell_type": "code",
   "execution_count": 21,
   "metadata": {},
   "outputs": [
    {
     "name": "stdout",
     "output_type": "stream",
     "text": [
      "100\n",
      "1\n",
      "19\n"
     ]
    }
   ],
   "source": [
    "S = input()\n",
    "K = int(input())\n",
    "n = len(S)\n",
    "dp = [[[0] * 2 for _ in range(K + 1)] for _ in range(n + 1)] # 0も含める\n",
    "dp[0][0][0] = 1\n",
    "\n",
    "def update(i, j, k, d):\n",
    "    for nd in range(10): # 次の桁の数値\n",
    "        ni, nj, nk = [i + 1, j, k] # n~~:次の ~~\n",
    "\n",
    "        nj += 1 if nd != 0 else 0 \n",
    "        if nj > K:\n",
    "            continue\n",
    "        \n",
    "        if k == 0:\n",
    "            if nd > d: \n",
    "                continue\n",
    "            if nd < d:\n",
    "                nk = 1\n",
    "#         print(d, nd)\n",
    "#         print(i, j, k, ni, nj, nk)\n",
    "        dp[ni][nj][nk] += dp[i][j][k]\n",
    "            \n",
    "for i in range(n): # 現在の桁のi\n",
    "    for j in range(K + 1): # 非0の数\n",
    "        for k in range(2): # 0:そこまでの桁がnと一致, 1: ~~ がn以下が確定\n",
    "            d = int(S[i]) # 現在の桁の数値\n",
    "            update(i, j, k, d)\n",
    "print(dp[n][K][0] + dp[n][K][1])"
   ]
  }
 ],
 "metadata": {
  "kernelspec": {
   "display_name": "Python 3",
   "language": "python",
   "name": "python3"
  },
  "language_info": {
   "codemirror_mode": {
    "name": "ipython",
    "version": 3
   },
   "file_extension": ".py",
   "mimetype": "text/x-python",
   "name": "python",
   "nbconvert_exporter": "python",
   "pygments_lexer": "ipython3",
   "version": "3.7.2"
  }
 },
 "nbformat": 4,
 "nbformat_minor": 2
}
