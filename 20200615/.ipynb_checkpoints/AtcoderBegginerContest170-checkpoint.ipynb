{
 "cells": [
  {
   "cell_type": "markdown",
   "metadata": {},
   "source": [
    "・A - Five Variables"
   ]
  },
  {
   "cell_type": "code",
   "execution_count": 2,
   "metadata": {},
   "outputs": [
    {
     "name": "stdout",
     "output_type": "stream",
     "text": [
      "1 2 0 4 5\n",
      "3\n"
     ]
    }
   ],
   "source": [
    "X = list(map(int, input().split()))\n",
    "print(X.index(0) + 1)"
   ]
  },
  {
   "cell_type": "markdown",
   "metadata": {},
   "source": [
    "・B - Crane and Turtle"
   ]
  },
  {
   "cell_type": "code",
   "execution_count": 15,
   "metadata": {},
   "outputs": [
    {
     "name": "stdout",
     "output_type": "stream",
     "text": [
      "2 8\n",
      "Yes\n"
     ]
    }
   ],
   "source": [
    "X, Y = list(map(int, input().split())) # 匹数, 足の本数\n",
    "kame = 4\n",
    "turu = 2\n",
    "\n",
    "def flag():\n",
    "    if Y % 2 != 0:\n",
    "        return False\n",
    "    \n",
    "    for i in range(X + 1): #単調増加\n",
    "        kame_num = i\n",
    "        turu_num = X - i\n",
    "        temp_sum = turu_num * turu + kame_num * kame\n",
    "        if temp_sum == Y:\n",
    "            return True\n",
    "        elif temp_sum > Y:\n",
    "            break\n",
    "    return False\n",
    "\n",
    "flag = flag()\n",
    "print('Yes') if flag else print('No')"
   ]
  },
  {
   "cell_type": "markdown",
   "metadata": {},
   "source": [
    "・C - Forbidden List"
   ]
  },
  {
   "cell_type": "code",
   "execution_count": 41,
   "metadata": {},
   "outputs": [
    {
     "name": "stdout",
     "output_type": "stream",
     "text": [
      "6 5\n",
      "4 7 10 6 5\n",
      "8\n"
     ]
    }
   ],
   "source": [
    "X, N = list(map(int, input().split()))\n",
    "P = list(map(int, input().split()))\n",
    "\n",
    "min_ = 100\n",
    "for i in range(0, 102):\n",
    "    cur = i \n",
    "    if cur in P:\n",
    "        continue\n",
    "    diff = abs(X - cur)\n",
    "    if diff < min_:\n",
    "        min_ = diff\n",
    "\n",
    "front = X - min_\n",
    "back = X + min_\n",
    "if front not in P:\n",
    "    print(front)\n",
    "else:\n",
    "    print(back)"
   ]
  },
  {
   "cell_type": "code",
   "execution_count": 32,
   "metadata": {},
   "outputs": [
    {
     "name": "stdout",
     "output_type": "stream",
     "text": [
      "5 12\n",
      "0 1 2 3 4 5 6 7 8 9 10 11\n",
      "-1\n"
     ]
    }
   ],
   "source": [
    "#別解法\n",
    "X, N = list(map(int, input().split()))\n",
    "P = list(map(int, input().split()))\n",
    "\n",
    "min_ = 0\n",
    "while True:\n",
    "    front = X - min_\n",
    "    back = X + min_\n",
    "    if front in P and back in P:\n",
    "        min_ += 1\n",
    "    else:\n",
    "        break\n",
    "\n",
    "front = X - min_\n",
    "back = X + min_\n",
    "if front not in P:\n",
    "    print(front)\n",
    "else:\n",
    "    print(back)"
   ]
  }
 ],
 "metadata": {
  "kernelspec": {
   "display_name": "Python 3",
   "language": "python",
   "name": "python3"
  },
  "language_info": {
   "codemirror_mode": {
    "name": "ipython",
    "version": 3
   },
   "file_extension": ".py",
   "mimetype": "text/x-python",
   "name": "python",
   "nbconvert_exporter": "python",
   "pygments_lexer": "ipython3",
   "version": "3.7.2"
  }
 },
 "nbformat": 4,
 "nbformat_minor": 2
}
