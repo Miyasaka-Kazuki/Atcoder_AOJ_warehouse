{
 "cells": [
  {
   "cell_type": "markdown",
   "metadata": {},
   "source": [
    "・F - Silver Fox vs Monster"
   ]
  },
  {
   "cell_type": "code",
   "execution_count": 1,
   "metadata": {},
   "outputs": [
    {
     "name": "stdout",
     "output_type": "stream",
     "text": [
      "3 0 1\n",
      "300000000 1000000000\n",
      "100000000 1000000000\n",
      "200000000 1000000000\n",
      "3000000000\n"
     ]
    }
   ],
   "source": [
    "#累積和の応用\n",
    "from collections import deque\n",
    "N, D, A = list(map(int, input().split()))\n",
    "pair_xh = [[-1, -1] for _ in range(N)] # 1回ずつしか使わないけどソートするから必要\n",
    "for i in range(N):\n",
    "    pair_xh[i][0], pair_xh[i][1] = list(map(int, input().split()))\n",
    "pair_xh.sort(key = lambda x: x[0]) #座標でソート\n",
    " \n",
    "q_lim_d = deque() # 累積和に含まれる攻撃範囲とダメージを保存する場所\n",
    "total = 0 # 喰らいダメージの累積和\n",
    "count = 0 # 攻撃回数\n",
    "for i in range(N):\n",
    "    x = pair_xh[i][0]\n",
    "    h = pair_xh[i][1]\n",
    "    \n",
    "    while len(q_lim_d) and q_lim_d[-1][0] < x: # 範囲外になったら喰らわないから累積和から外す\n",
    "        total -= q_lim_d[-1][1]\n",
    "        q_lim_d.pop()\n",
    "    h -= total\n",
    "    if h > 0: # 見てる敵の体力が0になる攻撃回数を求めその分を累積和に足す\n",
    "        times = (h + A - 1) // A # 0にするのに必要な回数(切り上げ)\n",
    "        count += times\n",
    "        damage = A * times\n",
    "        total += damage\n",
    "        q_lim_d.appendleft([x + 2 * D, damage])\n",
    "print(count)"
   ]
  }
 ],
 "metadata": {
  "kernelspec": {
   "display_name": "Python 3",
   "language": "python",
   "name": "python3"
  },
  "language_info": {
   "codemirror_mode": {
    "name": "ipython",
    "version": 3
   },
   "file_extension": ".py",
   "mimetype": "text/x-python",
   "name": "python",
   "nbconvert_exporter": "python",
   "pygments_lexer": "ipython3",
   "version": "3.7.1"
  }
 },
 "nbformat": 4,
 "nbformat_minor": 2
}
