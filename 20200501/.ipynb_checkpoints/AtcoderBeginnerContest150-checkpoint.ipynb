{
 "cells": [
  {
   "cell_type": "markdown",
   "metadata": {},
   "source": [
    "・A - 500 Yen Coins"
   ]
  },
  {
   "cell_type": "code",
   "execution_count": 1,
   "metadata": {},
   "outputs": [
    {
     "name": "stdout",
     "output_type": "stream",
     "text": [
      "4 2000\n",
      "Yes\n"
     ]
    }
   ],
   "source": [
    "K, X = list(map(int, input().split()))\n",
    "print('Yes' if 500 * K >= X else 'No')"
   ]
  },
  {
   "cell_type": "markdown",
   "metadata": {},
   "source": [
    "・B - Count ABC"
   ]
  },
  {
   "cell_type": "code",
   "execution_count": 3,
   "metadata": {},
   "outputs": [
    {
     "name": "stdout",
     "output_type": "stream",
     "text": [
      "33\n",
      "ABCCABCBABCCABACBCBBABCBCBCBCABCB\n",
      "5\n"
     ]
    }
   ],
   "source": [
    "N = input()\n",
    "S = input()\n",
    "print(S.count('ABC'))"
   ]
  },
  {
   "cell_type": "markdown",
   "metadata": {},
   "source": [
    "・C - Count Order"
   ]
  },
  {
   "cell_type": "code",
   "execution_count": 5,
   "metadata": {},
   "outputs": [
    {
     "name": "stdout",
     "output_type": "stream",
     "text": [
      "3\n",
      "1 2 3\n",
      "1 2 3\n",
      "0\n"
     ]
    }
   ],
   "source": [
    "from itertools import permutations\n",
    " \n",
    "N = int(input())\n",
    "P = int(''.join(input().split()))\n",
    "Q = int(''.join(input().split()))\n",
    "\n",
    "# 順列の単調増加リスト作成\n",
    "perms = []\n",
    "for order in permutations(list(map(lambda x:x + 1, range(N)))):\n",
    "    order = map(str, list(order))\n",
    "    perms.append(int(''.join(order)))\n",
    "             \n",
    "def binary_search(x):\n",
    "    left_index = 0\n",
    "    right_index = len(perms)\n",
    "    while right_index - left_index > 1:\n",
    "        mid_index = (left_index + right_index) // 2\n",
    "        if perms[mid_index] <= x:\n",
    "            left_index = mid_index\n",
    "        else:\n",
    "            right_index = mid_index\n",
    "    return left_index + 1 # インデックスTo番目は＋１する必要がある\n",
    "\n",
    "print(abs(binary_search(P) - binary_search(Q)))"
   ]
  }
 ],
 "metadata": {
  "kernelspec": {
   "display_name": "Python 3",
   "language": "python",
   "name": "python3"
  },
  "language_info": {
   "codemirror_mode": {
    "name": "ipython",
    "version": 3
   },
   "file_extension": ".py",
   "mimetype": "text/x-python",
   "name": "python",
   "nbconvert_exporter": "python",
   "pygments_lexer": "ipython3",
   "version": "3.7.1"
  }
 },
 "nbformat": 4,
 "nbformat_minor": 2
}
