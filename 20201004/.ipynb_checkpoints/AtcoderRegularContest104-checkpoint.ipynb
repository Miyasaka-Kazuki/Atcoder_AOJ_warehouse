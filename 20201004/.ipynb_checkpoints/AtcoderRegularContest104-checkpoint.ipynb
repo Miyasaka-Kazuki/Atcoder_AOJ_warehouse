{
 "cells": [
  {
   "cell_type": "code",
   "execution_count": 1,
   "metadata": {},
   "outputs": [
    {
     "name": "stdout",
     "output_type": "stream",
     "text": [
      "2 -2\n",
      "0 2\n"
     ]
    }
   ],
   "source": [
    "# A - Plus Minus\n",
    "A, B = list(map(int, input().split()))\n",
    "print(int((A + B) / 2), int((A - B) / 2))"
   ]
  },
  {
   "cell_type": "code",
   "execution_count": 2,
   "metadata": {},
   "outputs": [
    {
     "name": "stdout",
     "output_type": "stream",
     "text": [
      "4 ATAT\n",
      "4\n"
     ]
    }
   ],
   "source": [
    "# B - DNA Sequence\n",
    "# 自分で書いたコード(TLE)\n",
    "# コードは正しいがPythonだと間に合わない\n",
    "N, S = input().split()\n",
    "N = int(N)\n",
    " \n",
    "def cur_char_count(chars, s_i):\n",
    "    if S[s_i] == 'A':\n",
    "        chars[0] += 1\n",
    "    elif S[s_i] == 'T':\n",
    "        chars[1] += 1\n",
    "    elif S[s_i] == 'C':\n",
    "        chars[2] += 1\n",
    "    else:\n",
    "        chars[3] += 1\n",
    "    return chars\n",
    " \n",
    "# i:始点, j:終点\n",
    "ans_count = 0\n",
    "for i in range(N):\n",
    "    chars = [0 for _ in range(4)] # A, T, C, G\n",
    "    for j in range(i, N):\n",
    "        chars = cur_char_count(chars, j)\n",
    "        if chars[0] == chars[1] and chars[2] == chars[3]:\n",
    "            ans_count += 1\n",
    "print(ans_count)"
   ]
  },
  {
   "cell_type": "code",
   "execution_count": null,
   "metadata": {},
   "outputs": [],
   "source": [
    "# 全く同じコードでもC++なら間に合う\n",
    "# #include <iostream>\n",
    "# using namespace std;\n",
    " \n",
    "# void cur_char_count(string S, int chars[], int s_i) {\n",
    "#     if (S[s_i] == 'A')\n",
    "#         chars[0] += 1;\n",
    "#     else if (S[s_i] == 'T')\n",
    "#         chars[1] += 1;\n",
    "#     else if (S[s_i] == 'C')\n",
    "#         chars[2] += 1;\n",
    "#     else\n",
    "#         chars[3] += 1;\n",
    "# }\n",
    " \n",
    "# int main(void){\n",
    "#     int N;\n",
    "#     string S;\n",
    "#     cin >> N >> S;\n",
    " \n",
    "# // i:始点, j:終点\n",
    "# int ans_count = 0;\n",
    "# for (int i = 0; i < N; i++) {\n",
    "#         int chars[4] = {0, 0, 0, 0}; // A, T, C, G    \n",
    "#         for (int j = i; j < N; j++) {\n",
    "#             cur_char_count(S, chars, j); // charsはポインタ\n",
    "#         if (chars[0] == chars[1] and chars[2] == chars[3])\n",
    "#             ans_count += 1;\n",
    "#     }\n",
    "# }\n",
    "# cout << ans_count << endl;\n",
    "# }"
   ]
  },
  {
   "cell_type": "code",
   "execution_count": null,
   "metadata": {},
   "outputs": [],
   "source": [
    "#ちなみに関数を用いなかった場合、実行時間が約1/10倍になる\n",
    "# #include <iostream>\n",
    "# using namespace std;\n",
    "# int main(void){\n",
    "#     int N;\n",
    "#     string S;\n",
    "#     cin >> N >> S;\n",
    " \n",
    "# // i:始点, j:終点\n",
    "# int ans_count = 0;\n",
    "# for (int i = 0; i < N; i++) {\n",
    "#     int c1 = 0;\n",
    "#     int c2 = 0;\n",
    "#     for (int j = i; j < N; j++) {\n",
    "#         if (S[j] == 'A')\n",
    "#             c1 += 1;\n",
    "#         else if (S[j] == 'T') \n",
    "#             c1 -= 1;\n",
    "#         else if (S[j] == 'C') \n",
    "#             c2 += 1;\n",
    "#         else \n",
    "#             c2 -= 1;\n",
    " \n",
    "#         if (c1 == 0 and c2 == 0)\n",
    "#             ans_count += 1;\n",
    "#     }\n",
    "# }\n",
    "# cout << ans_count << endl;\n",
    "# }"
   ]
  }
 ],
 "metadata": {
  "kernelspec": {
   "display_name": "Python 3",
   "language": "python",
   "name": "python3"
  },
  "language_info": {
   "codemirror_mode": {
    "name": "ipython",
    "version": 3
   },
   "file_extension": ".py",
   "mimetype": "text/x-python",
   "name": "python",
   "nbconvert_exporter": "python",
   "pygments_lexer": "ipython3",
   "version": "3.7.2"
  }
 },
 "nbformat": 4,
 "nbformat_minor": 2
}
