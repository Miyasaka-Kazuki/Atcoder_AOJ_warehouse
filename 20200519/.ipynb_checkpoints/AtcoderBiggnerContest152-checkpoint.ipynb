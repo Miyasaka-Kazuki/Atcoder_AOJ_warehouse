{
 "cells": [
  {
   "cell_type": "markdown",
   "metadata": {},
   "source": [
    "・D - Handstand 2"
   ]
  },
  {
   "cell_type": "code",
   "execution_count": 1,
   "metadata": {},
   "outputs": [
    {
     "name": "stdout",
     "output_type": "stream",
     "text": [
      "25\n",
      "17\n"
     ]
    }
   ],
   "source": [
    "# 数字を先頭と末尾のペアに変換\n",
    "def toHeadTail(n):\n",
    "    n = str(n)\n",
    "    head = n[0]\n",
    "    tail = n[-1]\n",
    "    return (head, tail)\n",
    " \n",
    "# 集計処理\n",
    "def aggregate(N):\n",
    "    pair_agg = {}\n",
    "    for i in range(1, N + 1):\n",
    "        pair = toHeadTail(i)\n",
    "        if pair in pair_agg.keys():\n",
    "            pair_agg[pair] += 1\n",
    "        else:\n",
    "            pair_agg[pair] = 1\n",
    "    return pair_agg\n",
    " \n",
    "N = int(input())\n",
    "pair_agg = aggregate(N) \n",
    "count = 0\n",
    "for i in range(1, N + 1):\n",
    "    pair = toHeadTail(i)\n",
    "    pair_inverse = (pair[1], pair[0])\n",
    "    if pair_inverse in pair_agg.keys():\n",
    "        count += pair_agg[(pair[1], pair[0])]\n",
    "print(count)"
   ]
  }
 ],
 "metadata": {
  "kernelspec": {
   "display_name": "Python 3",
   "language": "python",
   "name": "python3"
  },
  "language_info": {
   "codemirror_mode": {
    "name": "ipython",
    "version": 3
   },
   "file_extension": ".py",
   "mimetype": "text/x-python",
   "name": "python",
   "nbconvert_exporter": "python",
   "pygments_lexer": "ipython3",
   "version": "3.7.1"
  }
 },
 "nbformat": 4,
 "nbformat_minor": 2
}
