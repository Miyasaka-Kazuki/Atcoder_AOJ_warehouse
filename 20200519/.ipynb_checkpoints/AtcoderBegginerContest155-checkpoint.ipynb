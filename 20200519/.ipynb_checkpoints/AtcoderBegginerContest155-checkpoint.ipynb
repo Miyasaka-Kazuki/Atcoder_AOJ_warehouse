{
 "cells": [
  {
   "cell_type": "markdown",
   "metadata": {},
   "source": [
    "・A - Poor"
   ]
  },
  {
   "cell_type": "code",
   "execution_count": 1,
   "metadata": {},
   "outputs": [
    {
     "name": "stdout",
     "output_type": "stream",
     "text": [
      "3 3 4\n",
      "Yes\n"
     ]
    }
   ],
   "source": [
    "A, B, C = list(map(int, input().split()))\n",
    "print('Yes' if len(set([A, B, C])) == 2 else 'No')"
   ]
  },
  {
   "cell_type": "markdown",
   "metadata": {},
   "source": [
    "・B - Papers, Please"
   ]
  },
  {
   "cell_type": "code",
   "execution_count": 3,
   "metadata": {},
   "outputs": [
    {
     "name": "stdout",
     "output_type": "stream",
     "text": [
      "3\n",
      "28 27 24\n",
      "DENIED\n"
     ]
    }
   ],
   "source": [
    "N = int(input())\n",
    "A = list(map(int, input().split()))\n",
    "A_even = [i for i in A if i % 2 == 0]\n",
    "flag_list = list(map(lambda x: (x % 3 == 0) or (x % 5 == 0), A_even))\n",
    "print('APPROVED' if False not in flag_list else 'DENIED')"
   ]
  }
 ],
 "metadata": {
  "kernelspec": {
   "display_name": "Python 3",
   "language": "python",
   "name": "python3"
  },
  "language_info": {
   "codemirror_mode": {
    "name": "ipython",
    "version": 3
   },
   "file_extension": ".py",
   "mimetype": "text/x-python",
   "name": "python",
   "nbconvert_exporter": "python",
   "pygments_lexer": "ipython3",
   "version": "3.7.1"
  }
 },
 "nbformat": 4,
 "nbformat_minor": 2
}
