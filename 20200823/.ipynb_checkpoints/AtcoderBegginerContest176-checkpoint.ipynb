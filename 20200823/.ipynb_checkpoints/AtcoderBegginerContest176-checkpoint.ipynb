{
 "cells": [
  {
   "cell_type": "code",
   "execution_count": 1,
   "metadata": {},
   "outputs": [
    {
     "name": "stdout",
     "output_type": "stream",
     "text": [
      "20 12 6\n",
      "12\n"
     ]
    }
   ],
   "source": [
    "# A - Takoyaki\n",
    "N, X, T = list(map(int, input().split()))\n",
    "num = int((N + (X - 1)) / X) # 切り上げ\n",
    "print(num * T)"
   ]
  },
  {
   "cell_type": "code",
   "execution_count": 2,
   "metadata": {},
   "outputs": [
    {
     "name": "stdout",
     "output_type": "stream",
     "text": [
      "123456789\n",
      "Yes\n"
     ]
    }
   ],
   "source": [
    "# B - Multiple of 9\n",
    "N = input()\n",
    "sum_ = 0\n",
    "for s in N:\n",
    "    sum_ += int(s)\n",
    "print('Yes') if sum_ % 9 == 0 else print('No')"
   ]
  },
  {
   "cell_type": "code",
   "execution_count": 4,
   "metadata": {},
   "outputs": [
    {
     "name": "stdout",
     "output_type": "stream",
     "text": [
      "5\n",
      "2 1 5 4 3\n",
      "4\n"
     ]
    }
   ],
   "source": [
    "# C - Step\n",
    "N = int(input())\n",
    "A = list(map(int, input().split()))\n",
    " \n",
    "sum_ = 0\n",
    "for i in range(N - 1):\n",
    "    if A[i] > A[i + 1]:\n",
    "        diff = A[i] - A[i + 1]\n",
    "        sum_ += diff\n",
    "        A[i + 1] += diff\n",
    "print(sum_)"
   ]
  }
 ],
 "metadata": {
  "kernelspec": {
   "display_name": "Python 3",
   "language": "python",
   "name": "python3"
  },
  "language_info": {
   "codemirror_mode": {
    "name": "ipython",
    "version": 3
   },
   "file_extension": ".py",
   "mimetype": "text/x-python",
   "name": "python",
   "nbconvert_exporter": "python",
   "pygments_lexer": "ipython3",
   "version": "3.7.2"
  }
 },
 "nbformat": 4,
 "nbformat_minor": 2
}
