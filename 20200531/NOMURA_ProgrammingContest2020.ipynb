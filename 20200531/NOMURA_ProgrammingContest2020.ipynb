{
 "cells": [
  {
   "cell_type": "markdown",
   "metadata": {},
   "source": [
    "・A - Study Scheduling"
   ]
  },
  {
   "cell_type": "code",
   "execution_count": 31,
   "metadata": {},
   "outputs": [
    {
     "name": "stdout",
     "output_type": "stream",
     "text": [
      "10 0 12 0 120\n",
      "0\n"
     ]
    }
   ],
   "source": [
    "H1, M1, H2, M2, K = list(map(int, input().split()))\n",
    "time = (H2 - H1) * 60 + M2 - M1\n",
    "print(time - K)"
   ]
  },
  {
   "cell_type": "markdown",
   "metadata": {},
   "source": [
    "・B - Postdocs"
   ]
  },
  {
   "cell_type": "code",
   "execution_count": 34,
   "metadata": {},
   "outputs": [
    {
     "name": "stdout",
     "output_type": "stream",
     "text": [
      "P?P?\n",
      "PDPD\n"
     ]
    }
   ],
   "source": [
    "T = list(input())\n",
    "for i in range(len(T)):\n",
    "    if T[i] == '?':        \n",
    "        T[i] = 'D'\n",
    "print(''.join(T))"
   ]
  }
 ],
 "metadata": {
  "kernelspec": {
   "display_name": "Python 3",
   "language": "python",
   "name": "python3"
  },
  "language_info": {
   "codemirror_mode": {
    "name": "ipython",
    "version": 3
   },
   "file_extension": ".py",
   "mimetype": "text/x-python",
   "name": "python",
   "nbconvert_exporter": "python",
   "pygments_lexer": "ipython3",
   "version": "3.7.2"
  }
 },
 "nbformat": 4,
 "nbformat_minor": 2
}
