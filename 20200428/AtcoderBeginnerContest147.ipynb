{
 "cells": [
  {
   "cell_type": "markdown",
   "metadata": {},
   "source": [
    "・C - HonestOrUnkind2"
   ]
  },
  {
   "cell_type": "code",
   "execution_count": 8,
   "metadata": {},
   "outputs": [
    {
     "name": "stdout",
     "output_type": "stream",
     "text": [
      "2\n",
      "1\n",
      "2 0\n",
      "1\n",
      "1 0\n",
      "1\n"
     ]
    }
   ],
   "source": [
    "N = int(input())\n",
    "\n",
    "evidences = [[] for _ in range(N)]\n",
    "for i in range(N): # i:人の番号\n",
    "    A = int(input())\n",
    "    for _ in range(A): #  x:人の番号, y:正直者か見破る番号\n",
    "        x, y = map(int, input().split())\n",
    "        evidences[i].append((x - 1, y))\n",
    "        \n",
    "# 全通り試す(最大は2**15だから問題ない)\n",
    "result = 0\n",
    "for i in range(1, 2 ** N): # iのビットは正直者と不親切な人の割合\n",
    "    consistent = True# 全通り試して矛盾がなければtrue\n",
    "    for j in range(N):# ビット演算で一人ずつ見ていく\n",
    "        if (i >> j) & 1 == 0: # 選んだ一人が不親切なら\n",
    "            continue\n",
    "        for x, y in evidences[j]: # x:人の番号, y:正直者か見破る番号\n",
    "            if (i >> x) & 1 != y: # xで一人を選んで,yの証言と一致してなかったら矛盾\n",
    "                consistent = False\n",
    "    if consistent:\n",
    "        result = max(result, bin(i).count('1'))\n",
    "print(result)"
   ]
  }
 ],
 "metadata": {
  "kernelspec": {
   "display_name": "Python 3",
   "language": "python",
   "name": "python3"
  },
  "language_info": {
   "codemirror_mode": {
    "name": "ipython",
    "version": 3
   },
   "file_extension": ".py",
   "mimetype": "text/x-python",
   "name": "python",
   "nbconvert_exporter": "python",
   "pygments_lexer": "ipython3",
   "version": "3.7.1"
  }
 },
 "nbformat": 4,
 "nbformat_minor": 2
}
