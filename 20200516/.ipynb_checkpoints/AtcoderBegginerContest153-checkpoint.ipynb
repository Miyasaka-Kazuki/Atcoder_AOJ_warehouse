{
 "cells": [
  {
   "cell_type": "markdown",
   "metadata": {},
   "source": [
    "・A - Serval vs Monster"
   ]
  },
  {
   "cell_type": "code",
   "execution_count": 1,
   "metadata": {},
   "outputs": [
    {
     "name": "stdout",
     "output_type": "stream",
     "text": [
      "10000 1\n",
      "10000\n"
     ]
    }
   ],
   "source": [
    "H, A = list(map(int, input().split()))\n",
    "count = 0\n",
    "while H > 0:\n",
    "    H -= A \n",
    "    count += 1\n",
    "print(count)"
   ]
  },
  {
   "cell_type": "markdown",
   "metadata": {},
   "source": [
    "・B - Common Raccoon vs Monster"
   ]
  },
  {
   "cell_type": "code",
   "execution_count": 3,
   "metadata": {},
   "outputs": [
    {
     "name": "stdout",
     "output_type": "stream",
     "text": [
      "211 5\n",
      "31 41 59 26 53\n",
      "No\n"
     ]
    }
   ],
   "source": [
    "H, N = list(map(int, input().split()))\n",
    "A = list(map(int, input().split()))\n",
    " \n",
    "for i in range(N):\n",
    "    H -= A[i]\n",
    "if H <= 0:\n",
    "    print('Yes')\n",
    "else:\n",
    "    print('No')"
   ]
  },
  {
   "cell_type": "markdown",
   "metadata": {},
   "source": [
    "・C - Fennec vs Monster"
   ]
  },
  {
   "cell_type": "code",
   "execution_count": 4,
   "metadata": {},
   "outputs": [
    {
     "name": "stdout",
     "output_type": "stream",
     "text": [
      "3 0\n",
      "1000000000 1000000000 1000000000\n",
      "3000000000\n"
     ]
    }
   ],
   "source": [
    "N, K = list(map(int, input().split()))\n",
    "H = list(map(int, input().split()))\n",
    " \n",
    "def calCount(h):\n",
    "    if K > N:\n",
    "        return 0\n",
    "    return sum(h[K:])\n",
    " \n",
    "H.sort(reverse=True)\n",
    "print(calCount(H))"
   ]
  },
  {
   "cell_type": "markdown",
   "metadata": {},
   "source": [
    "・D - Caracal vs Monster"
   ]
  },
  {
   "cell_type": "code",
   "execution_count": 5,
   "metadata": {},
   "outputs": [
    {
     "name": "stdout",
     "output_type": "stream",
     "text": [
      "1000000000000\n",
      "1099511627775\n"
     ]
    }
   ],
   "source": [
    "H = int(input())\n",
    " \n",
    "count = 0\n",
    "monster_num = 1\n",
    "monster_hp = H\n",
    "while monster_hp != 0: #倍々で増えていく数列\n",
    "    count += monster_num\n",
    "    monster_num *= 2\n",
    "    monster_hp //= 2\n",
    "print(count)"
   ]
  }
 ],
 "metadata": {
  "kernelspec": {
   "display_name": "Python 3",
   "language": "python",
   "name": "python3"
  },
  "language_info": {
   "codemirror_mode": {
    "name": "ipython",
    "version": 3
   },
   "file_extension": ".py",
   "mimetype": "text/x-python",
   "name": "python",
   "nbconvert_exporter": "python",
   "pygments_lexer": "ipython3",
   "version": "3.7.1"
  }
 },
 "nbformat": 4,
 "nbformat_minor": 2
}
