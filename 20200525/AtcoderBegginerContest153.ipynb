{
 "cells": [
  {
   "cell_type": "markdown",
   "metadata": {},
   "source": [
    "・F - Silver Fox vs Monster"
   ]
  },
  {
   "cell_type": "code",
   "execution_count": 1,
   "metadata": {},
   "outputs": [],
   "source": [
    "#前回と同じ問題、前回は累積和で解いたので今回はBIT(BinaryIndexedTree)で解いた\n",
    "#TLEがあるがWAはないのでコード自体はおそらく正しい"
   ]
  },
  {
   "cell_type": "code",
   "execution_count": 2,
   "metadata": {},
   "outputs": [
    {
     "name": "stdout",
     "output_type": "stream",
     "text": [
      "3 3 2\n",
      "1 2\n",
      "5 4\n",
      "9 2\n",
      "2\n"
     ]
    }
   ],
   "source": [
    "from collections import deque\n",
    "import bisect\n",
    " \n",
    "class BIT:\n",
    "    def __init__(self, n, d = None):\n",
    "        self.n = n\n",
    "        self.bit = [0] * (n + 1)\n",
    "        if d == None:\n",
    "            return\n",
    "        for i in range(n):\n",
    "            self.update(i, d[i])\n",
    " \n",
    "    #値更新\n",
    "    def update(self, i, x = 1):\n",
    "        i += 1\n",
    "        while i <= self.n:\n",
    "            self.bit[i] += x\n",
    "            i += (i & -i)\n",
    " \n",
    "    #区間合計値を出力            \n",
    "    def query(self, i):\n",
    "        i += 1\n",
    "        res_sum = 0\n",
    "        while i > 0:\n",
    "            res_sum += self.bit[i]\n",
    "            i -= i & -i\n",
    "        return res_sum\n",
    "    \n",
    "N, D, A = list(map(int, input().split()))\n",
    "pair_xh = [[-1, -1] for _ in range(N)] # 1回ずつしか使わないけどソートするから必要\n",
    "for i in range(N):\n",
    "    pair_xh[i][0], pair_xh[i][1] = list(map(int, input().split()))\n",
    "pair_xh.sort(key = lambda x: x[0]) #座標でソート\n",
    " \n",
    "# q_lim_d = deque() # 累積和に含まれる攻撃範囲とダメージを保存する場所\n",
    "# total = 0 # 喰らいダメージの累積和\n",
    "count = 0 # 攻撃回数\n",
    "bit = BIT(N + 1)\n",
    " \n",
    "for i in range(N):\n",
    "    x = pair_xh[i][0]\n",
    "    h = pair_xh[i][1]\n",
    "    \n",
    "    # while len(q_lim_d) and q_lim_d[-1][0] < x: # 範囲外になったら喰らわないから累積和から外す\n",
    "    #     total -= q_lim_d[-1][1]\n",
    "    #     q_lim_d.pop()\n",
    "    # h -= total\n",
    "    h -= bit.query(i)\n",
    "    if h > 0: # 見てる敵の体力が0になる攻撃回数を求めその分を累積和に足す\n",
    "        times = (h + A - 1) // A # 0にするのに必要な回数(切り上げ)\n",
    "        count += times\n",
    "        damage = A * times\n",
    "        # total += damage\n",
    "        # q_lim_d.appendleft([x + 2 * D, damage])\n",
    "        bit.update(i, damage)\n",
    "        rx = x + D * 2\n",
    "        j = bisect.bisect_right(pair_xh, [rx + 1, -1])\n",
    "        bit.update(j, -damage)\n",
    "print(count)"
   ]
  }
 ],
 "metadata": {
  "kernelspec": {
   "display_name": "Python 3",
   "language": "python",
   "name": "python3"
  },
  "language_info": {
   "codemirror_mode": {
    "name": "ipython",
    "version": 3
   },
   "file_extension": ".py",
   "mimetype": "text/x-python",
   "name": "python",
   "nbconvert_exporter": "python",
   "pygments_lexer": "ipython3",
   "version": "3.7.0"
  }
 },
 "nbformat": 4,
 "nbformat_minor": 2
}
