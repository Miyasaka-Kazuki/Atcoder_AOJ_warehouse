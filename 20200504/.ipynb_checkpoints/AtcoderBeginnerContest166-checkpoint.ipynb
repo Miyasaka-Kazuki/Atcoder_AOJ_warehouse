{
 "cells": [
  {
   "cell_type": "markdown",
   "metadata": {},
   "source": [
    "・A - A?C"
   ]
  },
  {
   "cell_type": "code",
   "execution_count": 1,
   "metadata": {},
   "outputs": [
    {
     "name": "stdout",
     "output_type": "stream",
     "text": [
      "ABC\n",
      "ARC\n"
     ]
    }
   ],
   "source": [
    "contests = ['ABC', 'ARC']\n",
    "S = input()\n",
    "contests.remove(S)\n",
    "print(contests[0])"
   ]
  },
  {
   "cell_type": "markdown",
   "metadata": {},
   "source": [
    "・B - Trick or Treat"
   ]
  },
  {
   "cell_type": "code",
   "execution_count": 3,
   "metadata": {},
   "outputs": [
    {
     "name": "stdout",
     "output_type": "stream",
     "text": [
      "3 3\n",
      "1\n",
      "3\n",
      "1\n",
      "3\n",
      "1\n",
      "3\n",
      "2\n"
     ]
    }
   ],
   "source": [
    "N, K = list(map(int, input().split()))\n",
    "haves = [False for _ in range(N)]\n",
    " \n",
    "def judge_Flag(flags):\n",
    "    As = list(map(int, input().split()))\n",
    "    for A in As:\n",
    "        flags[A - 1] = True\n",
    "\n",
    "for _ in range(K):\n",
    "    people_num = int(input())\n",
    "    judge_Flag(haves)\n",
    "print(haves.count(False))"
   ]
  },
  {
   "cell_type": "code",
   "execution_count": null,
   "metadata": {},
   "outputs": [],
   "source": []
  }
 ],
 "metadata": {
  "kernelspec": {
   "display_name": "Python 3",
   "language": "python",
   "name": "python3"
  },
  "language_info": {
   "codemirror_mode": {
    "name": "ipython",
    "version": 3
   },
   "file_extension": ".py",
   "mimetype": "text/x-python",
   "name": "python",
   "nbconvert_exporter": "python",
   "pygments_lexer": "ipython3",
   "version": "3.7.1"
  }
 },
 "nbformat": 4,
 "nbformat_minor": 2
}
