{
 "cells": [
  {
   "cell_type": "markdown",
   "metadata": {},
   "source": [
    "・A - We Love Golf"
   ]
  },
  {
   "cell_type": "code",
   "execution_count": 2,
   "metadata": {},
   "outputs": [
    {
     "name": "stdout",
     "output_type": "stream",
     "text": [
      "1\n",
      "11 11\n",
      "OK\n"
     ]
    }
   ],
   "source": [
    "K = int(input())\n",
    "A, B = list(map(int, input().split()))\n",
    " \n",
    "a = A // K\n",
    "b = B // K\n",
    "a_amari = A % K\n",
    "b_amari = B % K\n",
    "amari = min(a_amari, b_amari)\n",
    "if (b - a) >= 1 or amari == 0:\n",
    "    print('OK')\n",
    "else:\n",
    "    print('NG')"
   ]
  },
  {
   "cell_type": "markdown",
   "metadata": {},
   "source": [
    "・B - 1%"
   ]
  },
  {
   "cell_type": "code",
   "execution_count": 3,
   "metadata": {},
   "outputs": [
    {
     "name": "stdout",
     "output_type": "stream",
     "text": [
      "1333333333\n",
      "1706\n"
     ]
    }
   ],
   "source": [
    "X = int(input())\n",
    " \n",
    "save = 100\n",
    "count = 0\n",
    "while save < X:\n",
    "    save += int(save * 0.01)\n",
    "    count += 1    \n",
    "print(count)"
   ]
  },
  {
   "cell_type": "code",
   "execution_count": null,
   "metadata": {},
   "outputs": [],
   "source": []
  }
 ],
 "metadata": {
  "kernelspec": {
   "display_name": "Python 3",
   "language": "python",
   "name": "python3"
  },
  "language_info": {
   "codemirror_mode": {
    "name": "ipython",
    "version": 3
   },
   "file_extension": ".py",
   "mimetype": "text/x-python",
   "name": "python",
   "nbconvert_exporter": "python",
   "pygments_lexer": "ipython3",
   "version": "3.7.1"
  }
 },
 "nbformat": 4,
 "nbformat_minor": 2
}
