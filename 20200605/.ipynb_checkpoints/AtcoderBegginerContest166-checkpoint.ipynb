{
 "cells": [
  {
   "cell_type": "markdown",
   "metadata": {},
   "source": [
    "・A - A?C"
   ]
  },
  {
   "cell_type": "code",
   "execution_count": 1,
   "metadata": {},
   "outputs": [
    {
     "name": "stdout",
     "output_type": "stream",
     "text": [
      "ARC\n",
      "ABC\n"
     ]
    }
   ],
   "source": [
    "contests = ['ABC', 'ARC']\n",
    "S = input()\n",
    "contests.remove(S)\n",
    "print(contests[0])"
   ]
  },
  {
   "cell_type": "markdown",
   "metadata": {},
   "source": [
    "・B - Trick or Treat"
   ]
  },
  {
   "cell_type": "code",
   "execution_count": 3,
   "metadata": {},
   "outputs": [
    {
     "name": "stdout",
     "output_type": "stream",
     "text": [
      "3 2\n",
      "2 \n",
      "1 3\n",
      "1 \n",
      "3\n",
      "1\n"
     ]
    }
   ],
   "source": [
    "N, K = list(map(int, input().split()))\n",
    "haves = [False for _ in range(N)]\n",
    " \n",
    "def judge_Flag(flags, num):\n",
    "    As = list(map(int, input().split()))\n",
    "    for i in range(num):\n",
    "        flags[As[i] - 1] = True\n",
    "        \n",
    "for _ in range(K):\n",
    "    people_num = int(input())\n",
    "    judge_Flag(haves, people_num)\n",
    "print(haves.count(False))"
   ]
  },
  {
   "cell_type": "markdown",
   "metadata": {},
   "source": [
    "・C - Peaks"
   ]
  },
  {
   "cell_type": "code",
   "execution_count": 6,
   "metadata": {},
   "outputs": [
    {
     "name": "stdout",
     "output_type": "stream",
     "text": [
      "6 5\n",
      "8 6 9 1 2 1\n",
      "1 3\n",
      "4 2\n",
      "4 3\n",
      "4 6\n",
      "4 6\n",
      "3\n"
     ]
    }
   ],
   "source": [
    "N, M = list(map(int, input().split()))\n",
    "tenbodai = [H for H in list(map(int, input().split()))]\n",
    "tenbodai_trail = [set() for i in range(len(tenbodai))]\n",
    " \n",
    "for _ in range(M): #展望台と繋がる道のリストを作成\n",
    "    trail = list(map(int, input().split()))\n",
    "    tenbodai_trail[trail[0] - 1].add(trail[1] - 1)\n",
    "    tenbodai_trail[trail[1] - 1].add(trail[0] - 1)\n",
    "    \n",
    "count = 0\n",
    "for i in range(len(tenbodai)): #全探索\n",
    "    flag = True\n",
    "    for trail in tenbodai_trail[i]: # i:現在の展望台の番号, trail:繋がる展望台の番号\n",
    "        if tenbodai[i] <= tenbodai[trail]:\n",
    "            flag = False\n",
    "            break\n",
    "    if flag:\n",
    "        count += 1\n",
    "print(count)"
   ]
  }
 ],
 "metadata": {
  "kernelspec": {
   "display_name": "Python 3",
   "language": "python",
   "name": "python3"
  },
  "language_info": {
   "codemirror_mode": {
    "name": "ipython",
    "version": 3
   },
   "file_extension": ".py",
   "mimetype": "text/x-python",
   "name": "python",
   "nbconvert_exporter": "python",
   "pygments_lexer": "ipython3",
   "version": "3.7.2"
  }
 },
 "nbformat": 4,
 "nbformat_minor": 2
}
